{
 "cells": [
  {
   "cell_type": "markdown",
   "id": "d93526be",
   "metadata": {},
   "source": [
    "#Proyecto Semestral Estaca"
   ]
  },
  {
   "cell_type": "code",
   "execution_count": 2,
   "id": "aeaa9873-3bd8-4a40-a30a-6cc7a0f080ff",
   "metadata": {},
   "outputs": [],
   "source": [
    "# Librerías necesarias\n",
    "import pandas as pd\n",
    "import numpy as np\n",
    "\n",
    "#import seaborn as sns\n",
    "#from sklearn.model_selection import train_test_split\n",
    "# Las comentadas son para futuro uso pero aún no son están en uso"
   ]
  },
  {
   "cell_type": "code",
   "execution_count": null,
   "id": "3459fdf1-d912-4913-8b39-7a098fef29f4",
   "metadata": {},
   "outputs": [],
   "source": [
    "# Nota  \n",
    "#Este notebook requiere tener instaladas las siguientes librerías:  \n",
    "#`pandas`, `numpy`, `matplotlib`, `seaborn`, `scikit-learn`, `notebook`  \n",
    "#Si no las tienes, ejecuta en la terminal:\n",
    "#`pip install pandas numpy matplotlib seaborn scikit-learn notebook`"
   ]
  },
  {
   "cell_type": "code",
   "execution_count": 3,
   "id": "c9566f7c-0b4d-4b95-b24b-1cd9a621aae4",
   "metadata": {},
   "outputs": [],
   "source": [
    "#Lee el archivo de la database\n",
    "df = pd.read_csv(\"stroke-dataset.csv\")"
   ]
  },
  {
   "cell_type": "code",
   "execution_count": 4,
   "id": "62e9bb50-5d54-40e1-a97e-fe87f59737b5",
   "metadata": {},
   "outputs": [
    {
     "data": {
      "text/html": [
       "<div>\n",
       "<style scoped>\n",
       "    .dataframe tbody tr th:only-of-type {\n",
       "        vertical-align: middle;\n",
       "    }\n",
       "\n",
       "    .dataframe tbody tr th {\n",
       "        vertical-align: top;\n",
       "    }\n",
       "\n",
       "    .dataframe thead th {\n",
       "        text-align: right;\n",
       "    }\n",
       "</style>\n",
       "<table border=\"1\" class=\"dataframe\">\n",
       "  <thead>\n",
       "    <tr style=\"text-align: right;\">\n",
       "      <th></th>\n",
       "      <th>id</th>\n",
       "      <th>gender</th>\n",
       "      <th>age</th>\n",
       "      <th>hypertension</th>\n",
       "      <th>heart_disease</th>\n",
       "      <th>ever_married</th>\n",
       "      <th>work_type</th>\n",
       "      <th>Residence_type</th>\n",
       "      <th>avg_glucose_level</th>\n",
       "      <th>bmi</th>\n",
       "      <th>smoking_status</th>\n",
       "      <th>stroke</th>\n",
       "    </tr>\n",
       "  </thead>\n",
       "  <tbody>\n",
       "    <tr>\n",
       "      <th>0</th>\n",
       "      <td>9046</td>\n",
       "      <td>Male</td>\n",
       "      <td>67.0</td>\n",
       "      <td>0</td>\n",
       "      <td>1</td>\n",
       "      <td>Yes</td>\n",
       "      <td>Private</td>\n",
       "      <td>Urban</td>\n",
       "      <td>228.69</td>\n",
       "      <td>36.6</td>\n",
       "      <td>formerly smoked</td>\n",
       "      <td>1</td>\n",
       "    </tr>\n",
       "    <tr>\n",
       "      <th>1</th>\n",
       "      <td>51676</td>\n",
       "      <td>Female</td>\n",
       "      <td>61.0</td>\n",
       "      <td>0</td>\n",
       "      <td>0</td>\n",
       "      <td>Yes</td>\n",
       "      <td>Self-employed</td>\n",
       "      <td>Rural</td>\n",
       "      <td>202.21</td>\n",
       "      <td>NaN</td>\n",
       "      <td>never smoked</td>\n",
       "      <td>1</td>\n",
       "    </tr>\n",
       "    <tr>\n",
       "      <th>2</th>\n",
       "      <td>31112</td>\n",
       "      <td>Male</td>\n",
       "      <td>80.0</td>\n",
       "      <td>0</td>\n",
       "      <td>1</td>\n",
       "      <td>Yes</td>\n",
       "      <td>Private</td>\n",
       "      <td>Rural</td>\n",
       "      <td>105.92</td>\n",
       "      <td>32.5</td>\n",
       "      <td>never smoked</td>\n",
       "      <td>1</td>\n",
       "    </tr>\n",
       "    <tr>\n",
       "      <th>3</th>\n",
       "      <td>60182</td>\n",
       "      <td>Female</td>\n",
       "      <td>49.0</td>\n",
       "      <td>0</td>\n",
       "      <td>0</td>\n",
       "      <td>Yes</td>\n",
       "      <td>Private</td>\n",
       "      <td>Urban</td>\n",
       "      <td>171.23</td>\n",
       "      <td>34.4</td>\n",
       "      <td>smokes</td>\n",
       "      <td>1</td>\n",
       "    </tr>\n",
       "    <tr>\n",
       "      <th>4</th>\n",
       "      <td>1665</td>\n",
       "      <td>Female</td>\n",
       "      <td>79.0</td>\n",
       "      <td>1</td>\n",
       "      <td>0</td>\n",
       "      <td>Yes</td>\n",
       "      <td>Self-employed</td>\n",
       "      <td>Rural</td>\n",
       "      <td>174.12</td>\n",
       "      <td>24.0</td>\n",
       "      <td>never smoked</td>\n",
       "      <td>1</td>\n",
       "    </tr>\n",
       "  </tbody>\n",
       "</table>\n",
       "</div>"
      ],
      "text/plain": [
       "      id  gender   age  hypertension  heart_disease ever_married  \\\n",
       "0   9046    Male  67.0             0              1          Yes   \n",
       "1  51676  Female  61.0             0              0          Yes   \n",
       "2  31112    Male  80.0             0              1          Yes   \n",
       "3  60182  Female  49.0             0              0          Yes   \n",
       "4   1665  Female  79.0             1              0          Yes   \n",
       "\n",
       "       work_type Residence_type  avg_glucose_level   bmi   smoking_status  \\\n",
       "0        Private          Urban             228.69  36.6  formerly smoked   \n",
       "1  Self-employed          Rural             202.21   NaN     never smoked   \n",
       "2        Private          Rural             105.92  32.5     never smoked   \n",
       "3        Private          Urban             171.23  34.4           smokes   \n",
       "4  Self-employed          Rural             174.12  24.0     never smoked   \n",
       "\n",
       "   stroke  \n",
       "0       1  \n",
       "1       1  \n",
       "2       1  \n",
       "3       1  \n",
       "4       1  "
      ]
     },
     "execution_count": 4,
     "metadata": {},
     "output_type": "execute_result"
    }
   ],
   "source": [
    "#Muestra los cinco primeros datos de la database\n",
    "df.head()"
   ]
  },
  {
   "cell_type": "code",
   "execution_count": 5,
   "id": "4d3a3c2d",
   "metadata": {},
   "outputs": [
    {
     "data": {
      "text/plain": [
       "id                     int64\n",
       "gender                object\n",
       "age                  float64\n",
       "hypertension           int64\n",
       "heart_disease          int64\n",
       "ever_married          object\n",
       "work_type             object\n",
       "Residence_type        object\n",
       "avg_glucose_level    float64\n",
       "bmi                  float64\n",
       "smoking_status        object\n",
       "stroke                 int64\n",
       "dtype: object"
      ]
     },
     "execution_count": 5,
     "metadata": {},
     "output_type": "execute_result"
    }
   ],
   "source": [
    "#Muestra el tipo de dato de cada atributo\n",
    "df.dtypes"
   ]
  },
  {
   "cell_type": "code",
   "execution_count": 6,
   "metadata": {},
   "outputs": [
    {
     "data": {
      "text/plain": [
       "id                     0\n",
       "gender                 0\n",
       "age                    0\n",
       "hypertension           0\n",
       "heart_disease          0\n",
       "ever_married           0\n",
       "work_type              0\n",
       "Residence_type         0\n",
       "avg_glucose_level      0\n",
       "bmi                  201\n",
       "smoking_status         0\n",
       "stroke                 0\n",
       "dtype: int64"
      ]
     },
     "execution_count": 6,
     "metadata": {},
     "output_type": "execute_result"
    }
   ],
   "source": [
    "#Verifica la cantidad de datos NaN según categoría\n",
    "df.isnull().sum()"
   ]
  },
  {
   "cell_type": "code",
   "execution_count": 7,
   "metadata": {},
   "outputs": [
    {
     "data": {
      "text/plain": [
       "5110"
      ]
     },
     "execution_count": 7,
     "metadata": {},
     "output_type": "execute_result"
    }
   ],
   "source": [
    "#Cantidad de filas en el dataset antes de eliminación de NaN\n",
    "len(df) "
   ]
  },
  {
   "cell_type": "code",
   "execution_count": 8,
   "id": "9b149ab1",
   "metadata": {},
   "outputs": [],
   "source": [
    "#Eliminar filas que contienen valores NaN  \n",
    "df = df.dropna(axis=0)"
   ]
  },
  {
   "cell_type": "code",
   "execution_count": 9,
   "metadata": {},
   "outputs": [
    {
     "data": {
      "text/plain": [
       "4909"
      ]
     },
     "execution_count": 9,
     "metadata": {},
     "output_type": "execute_result"
    }
   ],
   "source": [
    "\n",
    "#Cantidad de filas en el dataset post eliminación de NaN\n",
    "len(df) \n"
   ]
  },
  {
   "cell_type": "code",
   "execution_count": 10,
   "metadata": {},
   "outputs": [
    {
     "name": "stdout",
     "output_type": "stream",
     "text": [
      "Empty DataFrame\n",
      "Columns: [id, gender, age, hypertension, heart_disease, ever_married, work_type, Residence_type, avg_glucose_level, bmi, smoking_status, stroke]\n",
      "Index: []\n"
     ]
    }
   ],
   "source": [
    "#Revisar si hay datos duplicados (no los borra en caso de existir)\n",
    "duplicados = df.duplicated()\n",
    "print(df[duplicados])"
   ]
  },
  {
   "cell_type": "code",
   "execution_count": 11,
   "id": "f6c19dd9",
   "metadata": {},
   "outputs": [
    {
     "name": "stdout",
     "output_type": "stream",
     "text": [
      "Empty DataFrame\n",
      "Columns: [id, gender, age, hypertension, heart_disease, ever_married, work_type, Residence_type, avg_glucose_level, bmi, smoking_status, stroke]\n",
      "Index: []\n"
     ]
    }
   ],
   "source": [
    "#Verifica edades dentro de rangos válidos\n",
    "pruebaage=df[df['age']>100]\n",
    "print(pruebaage)"
   ]
  },
  {
   "cell_type": "code",
   "execution_count": null,
   "id": "d99de74c",
   "metadata": {},
   "outputs": [
    {
     "name": "stdout",
     "output_type": "stream",
     "text": [
      "         id  gender   age  hypertension  heart_disease ever_married work_type  \\\n",
      "9     60491  Female  78.0             0              0          Yes   Private   \n",
      "23    64778    Male  82.0             0              1          Yes   Private   \n",
      "31    33879    Male  42.0             0              0          Yes   Private   \n",
      "38    47306    Male  58.0             0              0           No   Private   \n",
      "67    72366    Male  76.0             0              0          Yes   Private   \n",
      "...     ...     ...   ...           ...            ...          ...       ...   \n",
      "5098    579    Male   9.0             0              0           No  children   \n",
      "5101  36901  Female  45.0             0              0          Yes   Private   \n",
      "5103  22127  Female  18.0             0              0           No   Private   \n",
      "5104  14180  Female  13.0             0              0           No  children   \n",
      "5109  44679  Female  44.0             0              0          Yes  Govt_job   \n",
      "\n",
      "     Residence_type  avg_glucose_level   bmi smoking_status  stroke  \n",
      "9             Urban              58.57  24.2        Unknown       1  \n",
      "23            Rural             208.30  32.5        Unknown       1  \n",
      "31            Rural              83.41  25.4        Unknown       1  \n",
      "38            Rural              92.62  32.0        Unknown       1  \n",
      "67            Urban             104.47  20.3        Unknown       1  \n",
      "...             ...                ...   ...            ...     ...  \n",
      "5098          Urban              71.88  17.5        Unknown       0  \n",
      "5101          Urban              97.95  24.5        Unknown       0  \n",
      "5103          Urban              82.85  46.9        Unknown       0  \n",
      "5104          Rural             103.08  18.6        Unknown       0  \n",
      "5109          Urban              85.28  26.2        Unknown       0  \n",
      "\n",
      "[1483 rows x 12 columns]\n"
     ]
    }
   ],
   "source": [
    "#Muestra si se conoce o no si es que fuma\n",
    "fumadores_desconocidos = df[df[\"smoking_status\"] == \"Unknown\"]\n",
    "print(fumadores_desconocidos)"
   ]
  },
  {
   "cell_type": "code",
   "execution_count": 16,
   "id": "7cec1f20",
   "metadata": {},
   "outputs": [
    {
     "data": {
      "image/png": "[encoded data removed]",
      "text/plain": [
       "<Figure size 640x480 with 1 Axes>"
      ]
     },
     "metadata": {},
     "output_type": "display_data"
    }
   ],
   "source": [
    "#pip install matplotlib\n",
    "import matplotlib.pyplot as plt\n",
    "df.boxplot(column='age')\n",
    "plt.title('Distribución de edades')\n",
    "plt.ylabel('Edad')\n",
    "\n",
    "plt.show()"
   ]
  },
  {
   "cell_type": "code",
   "execution_count": 17,
   "id": "559d4580",
   "metadata": {},
   "outputs": [
    {
     "name": "stdout",
     "output_type": "stream",
     "text": [
      "9.099999999999998 47.5\n",
      "         id  gender   age  hypertension  heart_disease ever_married  \\\n",
      "21    13861  Female  52.0             1              0          Yes   \n",
      "113   41069  Female  45.0             0              0          Yes   \n",
      "254   32257  Female  47.0             0              0          Yes   \n",
      "258   28674  Female  74.0             1              0          Yes   \n",
      "270   72911  Female  57.0             1              0          Yes   \n",
      "...     ...     ...   ...           ...            ...          ...   \n",
      "4858   1696  Female  43.0             0              0          Yes   \n",
      "4906  72696  Female  53.0             0              0          Yes   \n",
      "4952  16245    Male  51.0             1              0          Yes   \n",
      "5009  40732  Female  50.0             0              0          Yes   \n",
      "5057  38349  Female  49.0             0              0          Yes   \n",
      "\n",
      "          work_type Residence_type  avg_glucose_level   bmi   smoking_status  \\\n",
      "21    Self-employed          Urban             233.29  48.9     never smoked   \n",
      "113         Private          Rural             224.10  56.6     never smoked   \n",
      "254         Private          Urban             210.95  50.1          Unknown   \n",
      "258   Self-employed          Urban             205.84  54.6     never smoked   \n",
      "270         Private          Rural             129.54  60.9           smokes   \n",
      "...             ...            ...                ...   ...              ...   \n",
      "4858        Private          Urban             100.88  47.6           smokes   \n",
      "4906        Private          Urban              70.51  54.1     never smoked   \n",
      "4952  Self-employed          Rural             211.83  56.6     never smoked   \n",
      "5009  Self-employed          Rural             126.85  49.5  formerly smoked   \n",
      "5057       Govt_job          Urban              69.92  47.6     never smoked   \n",
      "\n",
      "      stroke  \n",
      "21         1  \n",
      "113        1  \n",
      "254        0  \n",
      "258        0  \n",
      "270        0  \n",
      "...      ...  \n",
      "4858       0  \n",
      "4906       0  \n",
      "4952       0  \n",
      "5009       0  \n",
      "5057       0  \n",
      "\n",
      "[110 rows x 12 columns]\n"
     ]
    }
   ],
   "source": [
    "#Mostrar outliers\n",
    "Q1 = df[\"bmi\"].quantile(0.25)\n",
    "Q3 = df[\"bmi\"].quantile(0.75)\n",
    "IQR = Q3 - Q1\n",
    "limite_inferior = Q1 - 1.5 * IQR\n",
    "limite_superior = Q3 + 1.5 * IQR\n",
    "print(limite_inferior, limite_superior)\n",
    "outliers = df[(df[\"bmi\"] < limite_inferior) | (df[\"bmi\"] > limite_superior)]\n",
    "print(outliers)"
   ]
  },
  {
   "cell_type": "code",
   "execution_count": 14,
   "id": "80e86ce8",
   "metadata": {},
   "outputs": [
    {
     "data": {
      "image/png": "[encoded data removed]",
      "text/plain": [
       "<Figure size 640x480 with 1 Axes>"
      ]
     },
     "metadata": {},
     "output_type": "display_data"
    }
   ],
   "source": [
    "import seaborn as sns\n",
    "\n",
    "sns.boxplot(x=df['bmi'])\n",
    "plt.title('Distribución de bmi')\n",
    "plt.xlabel('Edad')\n",
    "plt.show()\n"
   ]
  },
  {
   "cell_type": "code",
   "execution_count": null,
   "metadata": {},
   "outputs": [],
   "source": []
  }
 ],
 "metadata": {
  "kernelspec": {
   "display_name": "Python 3",
   "language": "python",
   "name": "python3"
  },
  "language_info": {
   "codemirror_mode": {
    "name": "ipython",
    "version": 3
   },
   "file_extension": ".py",
   "mimetype": "text/x-python",
   "name": "python",
   "nbconvert_exporter": "python",
   "pygments_lexer": "ipython3",
   "version": "3.11.0"
  }
 },
 "nbformat": 4,
 "nbformat_minor": 5
}
